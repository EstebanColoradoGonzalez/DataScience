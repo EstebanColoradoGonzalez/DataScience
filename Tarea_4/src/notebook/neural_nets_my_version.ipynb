{
 "cells": [
  {
   "cell_type": "code",
   "execution_count": 1,
   "id": "7c6fbe10",
   "metadata": {},
   "outputs": [
    {
     "name": "stdout",
     "output_type": "stream",
     "text": [
      "Requirement already satisfied: kaleido in c:\\users\\esteban\\appdata\\local\\programs\\python\\python311\\lib\\site-packages (0.2.1)\n"
     ]
    }
   ],
   "source": [
    "! pip install kaleido"
   ]
  },
  {
   "cell_type": "code",
   "execution_count": 2,
   "id": "8183db7a",
   "metadata": {},
   "outputs": [
    {
     "name": "stdout",
     "output_type": "stream",
     "text": [
      "Requirement already satisfied: tensorflow in c:\\users\\esteban\\appdata\\local\\programs\\python\\python311\\lib\\site-packages (2.12.0)\n",
      "Requirement already satisfied: tensorflow-intel==2.12.0 in c:\\users\\esteban\\appdata\\local\\programs\\python\\python311\\lib\\site-packages (from tensorflow) (2.12.0)\n",
      "Requirement already satisfied: absl-py>=1.0.0 in c:\\users\\esteban\\appdata\\local\\programs\\python\\python311\\lib\\site-packages (from tensorflow-intel==2.12.0->tensorflow) (1.4.0)\n",
      "Requirement already satisfied: astunparse>=1.6.0 in c:\\users\\esteban\\appdata\\local\\programs\\python\\python311\\lib\\site-packages (from tensorflow-intel==2.12.0->tensorflow) (1.6.3)\n",
      "Requirement already satisfied: flatbuffers>=2.0 in c:\\users\\esteban\\appdata\\local\\programs\\python\\python311\\lib\\site-packages (from tensorflow-intel==2.12.0->tensorflow) (23.5.26)\n",
      "Requirement already satisfied: gast<=0.4.0,>=0.2.1 in c:\\users\\esteban\\appdata\\local\\programs\\python\\python311\\lib\\site-packages (from tensorflow-intel==2.12.0->tensorflow) (0.4.0)\n",
      "Requirement already satisfied: google-pasta>=0.1.1 in c:\\users\\esteban\\appdata\\local\\programs\\python\\python311\\lib\\site-packages (from tensorflow-intel==2.12.0->tensorflow) (0.2.0)\n",
      "Requirement already satisfied: h5py>=2.9.0 in c:\\users\\esteban\\appdata\\local\\programs\\python\\python311\\lib\\site-packages (from tensorflow-intel==2.12.0->tensorflow) (3.8.0)\n",
      "Requirement already satisfied: jax>=0.3.15 in c:\\users\\esteban\\appdata\\local\\programs\\python\\python311\\lib\\site-packages (from tensorflow-intel==2.12.0->tensorflow) (0.4.12)\n",
      "Requirement already satisfied: libclang>=13.0.0 in c:\\users\\esteban\\appdata\\local\\programs\\python\\python311\\lib\\site-packages (from tensorflow-intel==2.12.0->tensorflow) (16.0.0)\n",
      "Requirement already satisfied: numpy<1.24,>=1.22 in c:\\users\\esteban\\appdata\\local\\programs\\python\\python311\\lib\\site-packages (from tensorflow-intel==2.12.0->tensorflow) (1.23.5)\n",
      "Requirement already satisfied: opt-einsum>=2.3.2 in c:\\users\\esteban\\appdata\\local\\programs\\python\\python311\\lib\\site-packages (from tensorflow-intel==2.12.0->tensorflow) (3.3.0)\n",
      "Requirement already satisfied: packaging in c:\\users\\esteban\\appdata\\local\\programs\\python\\python311\\lib\\site-packages (from tensorflow-intel==2.12.0->tensorflow) (23.0)\n",
      "Requirement already satisfied: protobuf!=4.21.0,!=4.21.1,!=4.21.2,!=4.21.3,!=4.21.4,!=4.21.5,<5.0.0dev,>=3.20.3 in c:\\users\\esteban\\appdata\\local\\programs\\python\\python311\\lib\\site-packages (from tensorflow-intel==2.12.0->tensorflow) (4.23.2)\n",
      "Requirement already satisfied: setuptools in c:\\users\\esteban\\appdata\\local\\programs\\python\\python311\\lib\\site-packages (from tensorflow-intel==2.12.0->tensorflow) (65.5.0)\n",
      "Requirement already satisfied: six>=1.12.0 in c:\\users\\esteban\\appdata\\local\\programs\\python\\python311\\lib\\site-packages (from tensorflow-intel==2.12.0->tensorflow) (1.16.0)\n",
      "Requirement already satisfied: termcolor>=1.1.0 in c:\\users\\esteban\\appdata\\local\\programs\\python\\python311\\lib\\site-packages (from tensorflow-intel==2.12.0->tensorflow) (2.3.0)\n",
      "Requirement already satisfied: typing-extensions>=3.6.6 in c:\\users\\esteban\\appdata\\local\\programs\\python\\python311\\lib\\site-packages (from tensorflow-intel==2.12.0->tensorflow) (4.6.3)\n",
      "Requirement already satisfied: wrapt<1.15,>=1.11.0 in c:\\users\\esteban\\appdata\\local\\programs\\python\\python311\\lib\\site-packages (from tensorflow-intel==2.12.0->tensorflow) (1.14.1)\n",
      "Requirement already satisfied: grpcio<2.0,>=1.24.3 in c:\\users\\esteban\\appdata\\local\\programs\\python\\python311\\lib\\site-packages (from tensorflow-intel==2.12.0->tensorflow) (1.54.2)\n",
      "Requirement already satisfied: tensorboard<2.13,>=2.12 in c:\\users\\esteban\\appdata\\local\\programs\\python\\python311\\lib\\site-packages (from tensorflow-intel==2.12.0->tensorflow) (2.12.3)\n",
      "Requirement already satisfied: tensorflow-estimator<2.13,>=2.12.0 in c:\\users\\esteban\\appdata\\local\\programs\\python\\python311\\lib\\site-packages (from tensorflow-intel==2.12.0->tensorflow) (2.12.0)\n",
      "Requirement already satisfied: keras<2.13,>=2.12.0 in c:\\users\\esteban\\appdata\\local\\programs\\python\\python311\\lib\\site-packages (from tensorflow-intel==2.12.0->tensorflow) (2.12.0)\n",
      "Requirement already satisfied: tensorflow-io-gcs-filesystem>=0.23.1 in c:\\users\\esteban\\appdata\\local\\programs\\python\\python311\\lib\\site-packages (from tensorflow-intel==2.12.0->tensorflow) (0.31.0)\n",
      "Requirement already satisfied: wheel<1.0,>=0.23.0 in c:\\users\\esteban\\appdata\\local\\programs\\python\\python311\\lib\\site-packages (from astunparse>=1.6.0->tensorflow-intel==2.12.0->tensorflow) (0.40.0)\n",
      "Requirement already satisfied: ml-dtypes>=0.1.0 in c:\\users\\esteban\\appdata\\local\\programs\\python\\python311\\lib\\site-packages (from jax>=0.3.15->tensorflow-intel==2.12.0->tensorflow) (0.2.0)\n",
      "Requirement already satisfied: scipy>=1.7 in c:\\users\\esteban\\appdata\\local\\programs\\python\\python311\\lib\\site-packages (from jax>=0.3.15->tensorflow-intel==2.12.0->tensorflow) (1.10.1)\n",
      "Requirement already satisfied: google-auth<3,>=1.6.3 in c:\\users\\esteban\\appdata\\local\\programs\\python\\python311\\lib\\site-packages (from tensorboard<2.13,>=2.12->tensorflow-intel==2.12.0->tensorflow) (2.19.1)\n",
      "Requirement already satisfied: google-auth-oauthlib<1.1,>=0.5 in c:\\users\\esteban\\appdata\\local\\programs\\python\\python311\\lib\\site-packages (from tensorboard<2.13,>=2.12->tensorflow-intel==2.12.0->tensorflow) (1.0.0)\n",
      "Requirement already satisfied: markdown>=2.6.8 in c:\\users\\esteban\\appdata\\local\\programs\\python\\python311\\lib\\site-packages (from tensorboard<2.13,>=2.12->tensorflow-intel==2.12.0->tensorflow) (3.4.3)\n",
      "Requirement already satisfied: requests<3,>=2.21.0 in c:\\users\\esteban\\appdata\\local\\programs\\python\\python311\\lib\\site-packages (from tensorboard<2.13,>=2.12->tensorflow-intel==2.12.0->tensorflow) (2.30.0)\n",
      "Requirement already satisfied: tensorboard-data-server<0.8.0,>=0.7.0 in c:\\users\\esteban\\appdata\\local\\programs\\python\\python311\\lib\\site-packages (from tensorboard<2.13,>=2.12->tensorflow-intel==2.12.0->tensorflow) (0.7.0)\n",
      "Requirement already satisfied: werkzeug>=1.0.1 in c:\\users\\esteban\\appdata\\local\\programs\\python\\python311\\lib\\site-packages (from tensorboard<2.13,>=2.12->tensorflow-intel==2.12.0->tensorflow) (2.3.6)\n",
      "Requirement already satisfied: cachetools<6.0,>=2.0.0 in c:\\users\\esteban\\appdata\\local\\programs\\python\\python311\\lib\\site-packages (from google-auth<3,>=1.6.3->tensorboard<2.13,>=2.12->tensorflow-intel==2.12.0->tensorflow) (5.3.1)\n",
      "Requirement already satisfied: pyasn1-modules>=0.2.1 in c:\\users\\esteban\\appdata\\local\\programs\\python\\python311\\lib\\site-packages (from google-auth<3,>=1.6.3->tensorboard<2.13,>=2.12->tensorflow-intel==2.12.0->tensorflow) (0.3.0)\n",
      "Requirement already satisfied: rsa<5,>=3.1.4 in c:\\users\\esteban\\appdata\\local\\programs\\python\\python311\\lib\\site-packages (from google-auth<3,>=1.6.3->tensorboard<2.13,>=2.12->tensorflow-intel==2.12.0->tensorflow) (4.9)\n",
      "Requirement already satisfied: urllib3<2.0 in c:\\users\\esteban\\appdata\\local\\programs\\python\\python311\\lib\\site-packages (from google-auth<3,>=1.6.3->tensorboard<2.13,>=2.12->tensorflow-intel==2.12.0->tensorflow) (1.26.16)\n",
      "Requirement already satisfied: requests-oauthlib>=0.7.0 in c:\\users\\esteban\\appdata\\local\\programs\\python\\python311\\lib\\site-packages (from google-auth-oauthlib<1.1,>=0.5->tensorboard<2.13,>=2.12->tensorflow-intel==2.12.0->tensorflow) (1.3.1)\n",
      "Requirement already satisfied: charset-normalizer<4,>=2 in c:\\users\\esteban\\appdata\\local\\programs\\python\\python311\\lib\\site-packages (from requests<3,>=2.21.0->tensorboard<2.13,>=2.12->tensorflow-intel==2.12.0->tensorflow) (3.1.0)\n",
      "Requirement already satisfied: idna<4,>=2.5 in c:\\users\\esteban\\appdata\\local\\programs\\python\\python311\\lib\\site-packages (from requests<3,>=2.21.0->tensorboard<2.13,>=2.12->tensorflow-intel==2.12.0->tensorflow) (3.4)\n",
      "Requirement already satisfied: certifi>=2017.4.17 in c:\\users\\esteban\\appdata\\local\\programs\\python\\python311\\lib\\site-packages (from requests<3,>=2.21.0->tensorboard<2.13,>=2.12->tensorflow-intel==2.12.0->tensorflow) (2023.5.7)\n",
      "Requirement already satisfied: MarkupSafe>=2.1.1 in c:\\users\\esteban\\appdata\\local\\programs\\python\\python311\\lib\\site-packages (from werkzeug>=1.0.1->tensorboard<2.13,>=2.12->tensorflow-intel==2.12.0->tensorflow) (2.1.2)\n",
      "Requirement already satisfied: pyasn1<0.6.0,>=0.4.6 in c:\\users\\esteban\\appdata\\local\\programs\\python\\python311\\lib\\site-packages (from pyasn1-modules>=0.2.1->google-auth<3,>=1.6.3->tensorboard<2.13,>=2.12->tensorflow-intel==2.12.0->tensorflow) (0.5.0)\n",
      "Requirement already satisfied: oauthlib>=3.0.0 in c:\\users\\esteban\\appdata\\local\\programs\\python\\python311\\lib\\site-packages (from requests-oauthlib>=0.7.0->google-auth-oauthlib<1.1,>=0.5->tensorboard<2.13,>=2.12->tensorflow-intel==2.12.0->tensorflow) (3.2.2)\n"
     ]
    }
   ],
   "source": [
    "!pip install tensorflow"
   ]
  },
  {
   "cell_type": "code",
   "execution_count": 1,
   "id": "068c7389",
   "metadata": {},
   "outputs": [],
   "source": [
    "import numpy as np\n",
    "import keras\n",
    "import os\n",
    "import pandas as pd\n",
    "from scipy import stats\n",
    "import matplotlib.pyplot as plt\n",
    "import plotly.graph_objects as go\n",
    "import tarfile\n",
    "import zipfile\n",
    "from sklearn.linear_model import LogisticRegression\n",
    "from sklearn.cluster import AgglomerativeClustering\n",
    "from scipy.io import loadmat\n",
    "from urllib.request import urlretrieve\n",
    "from os.path import isfile, isdir\n",
    "import plotly.figure_factory as ff\n",
    "import plotly.express as px\n",
    "import statsmodels.api as sm\n",
    "from IPython.display import Image\n",
    "from sklearn.model_selection import train_test_split\n",
    "from sklearn.preprocessing import LabelEncoder\n",
    "from sklearn.metrics import mean_squared_error\n",
    "from sklearn.neighbors import KNeighborsRegressor\n",
    "from sklearn.metrics import confusion_matrix, ConfusionMatrixDisplay\n",
    "from numpy import loadtxt\n",
    "from tensorflow.keras.models import Sequential\n",
    "from tensorflow.keras.layers import Conv2D, MaxPooling2D, Flatten, Dense\n",
    "from tensorflow.keras.utils import to_categorical\n",
    "from keras.layers import Dense, Activation, Dropout, Flatten, Conv2D, MaxPooling2D\n",
    "from keras.utils import to_categorical\n",
    "import glob\n",
    "import random\n",
    "import matplotlib.image as img\n",
    "from PIL import Image\n",
    "#Install pillow\n",
    "from PIL import Image\n",
    "pd.set_option('display.max_rows', 500)\n",
    "pd.set_option('display.max_columns', 500)\n",
    "%matplotlib inline"
   ]
  },
  {
   "cell_type": "code",
   "execution_count": 175,
   "id": "5beba6bd",
   "metadata": {},
   "outputs": [],
   "source": [
    "desire_size = (50, 50)\n",
    "n_channels = 3\n",
    "batch_size = 128"
   ]
  },
  {
   "cell_type": "markdown",
   "id": "1241f316",
   "metadata": {},
   "source": [
    "Se define la ruta de la carpeta que contiene las imágenes de entrenamiento y la lista de nombres de las carpetas de categorías."
   ]
  },
  {
   "cell_type": "code",
   "execution_count": 176,
   "id": "8cfda932",
   "metadata": {},
   "outputs": [],
   "source": [
    "train_folder = 'data/train'\n",
    "categories = ['Black-grass', 'Charlock', 'Cleavers', 'Common Chickweed', 'Common wheat', 'Fat Hen',\n",
    "              'Loose Silky-bent', 'Maize', 'Scentless Mayweed', 'Shepherds Purse',\n",
    "              'Small-flowered Cranesbill', 'Sugar beet']"
   ]
  },
  {
   "cell_type": "markdown",
   "id": "0513909d",
   "metadata": {},
   "source": [
    "Se inicializan listas para almacenar las imágenes y las etiquetas"
   ]
  },
  {
   "cell_type": "code",
   "execution_count": 177,
   "id": "2dc0d095",
   "metadata": {},
   "outputs": [],
   "source": [
    "images = []\n",
    "labels = []"
   ]
  },
  {
   "cell_type": "markdown",
   "id": "14c15c79",
   "metadata": {},
   "source": [
    "Se itera sobre las carpetas de categorías"
   ]
  },
  {
   "cell_type": "code",
   "execution_count": 178,
   "id": "dcd2b302",
   "metadata": {},
   "outputs": [],
   "source": [
    "for category in categories:\n",
    "    folder_path = os.path.join(train_folder, category)\n",
    "    # Se itera sobre los archivos de imagen en cada carpeta\n",
    "    for file_name in os.listdir(folder_path):\n",
    "        # Se lee la imagen y convertirla a escala de grises\n",
    "        image_path = os.path.join(folder_path, file_name)\n",
    "        image = Image.open(image_path).convert('L')\n",
    "        # Se redimensiona la imagen a un tamaño fijo, por ejemplo (128, 128)\n",
    "        image = image.resize((128, 128))\n",
    "        # Se convierte la imagen a un array numpy\n",
    "        image_array = np.array(image)\n",
    "        # Se agrega la imagen y la etiqueta a las listas\n",
    "        images.append(image_array)\n",
    "        labels.append(category)"
   ]
  },
  {
   "cell_type": "markdown",
   "id": "1f03386a",
   "metadata": {},
   "source": [
    "Se convierten las listas a arrays numpy"
   ]
  },
  {
   "cell_type": "code",
   "execution_count": 179,
   "id": "6f22697e",
   "metadata": {},
   "outputs": [],
   "source": [
    "images = np.array(images)\n",
    "labels = np.array(labels)"
   ]
  },
  {
   "cell_type": "markdown",
   "id": "44bb9fc4",
   "metadata": {},
   "source": [
    "Se codifican las etiquetas numéricamente"
   ]
  },
  {
   "cell_type": "code",
   "execution_count": 180,
   "id": "2966022e",
   "metadata": {},
   "outputs": [],
   "source": [
    "label_encoder = LabelEncoder()\n",
    "labels_encoded = label_encoder.fit_transform(labels)"
   ]
  },
  {
   "cell_type": "code",
   "execution_count": 181,
   "id": "d064449d",
   "metadata": {},
   "outputs": [],
   "source": [
    "num_out = len(label_encoder.classes_)"
   ]
  },
  {
   "cell_type": "markdown",
   "id": "08e3abe1",
   "metadata": {},
   "source": [
    "Se convierten las etiquetas a variables categóricas"
   ]
  },
  {
   "cell_type": "code",
   "execution_count": 182,
   "id": "4923b708",
   "metadata": {},
   "outputs": [],
   "source": [
    "labels_categorical = to_categorical(labels_encoded)"
   ]
  },
  {
   "cell_type": "markdown",
   "id": "9cb2f1dc",
   "metadata": {},
   "source": [
    "Se dividen los datos en conjuntos de entrenamiento y prueba"
   ]
  },
  {
   "cell_type": "code",
   "execution_count": 183,
   "id": "52ed307a",
   "metadata": {},
   "outputs": [],
   "source": [
    "X_train, X_test, y_train, y_test = train_test_split(images, labels_categorical, test_size=0.2, random_state=42)"
   ]
  },
  {
   "cell_type": "markdown",
   "id": "712121c1",
   "metadata": {},
   "source": [
    "Se normalizan los valores de píxel entre 0 y 1"
   ]
  },
  {
   "cell_type": "code",
   "execution_count": 184,
   "id": "b69440f5",
   "metadata": {},
   "outputs": [],
   "source": [
    "X_train = X_train / 255.0\n",
    "X_test = X_test / 255.0"
   ]
  },
  {
   "cell_type": "markdown",
   "id": "43f1086b",
   "metadata": {},
   "source": [
    "Se define la arquitectura del modelo de red convolucional"
   ]
  },
  {
   "cell_type": "code",
   "execution_count": 185,
   "id": "5d2295f2",
   "metadata": {},
   "outputs": [],
   "source": [
    "model = Sequential()\n",
    "model.add(Conv2D(32, (3, 3), activation='relu', input_shape=(128, 128, 1), padding='same'))\n",
    "model.add(MaxPooling2D((2, 2)))\n",
    "model.add(Conv2D(64, (3, 3), activation='relu'))\n",
    "model.add(MaxPooling2D((2, 2)))\n",
    "model.add(Flatten())\n",
    "model.add(Dense(200, activation='relu'))\n",
    "model.add(Dropout(0.1))\n",
    "model.add(Dense(100, activation='relu'))\n",
    "model.add(Dropout(0.1))\n",
    "model.add(Dense(50, activation='relu'))\n",
    "model.add(Dropout(0.1))\n",
    "model.add(Dense(num_out, activation='softmax'))"
   ]
  },
  {
   "cell_type": "markdown",
   "id": "8c8df3e0",
   "metadata": {},
   "source": [
    "Se compila el modelo"
   ]
  },
  {
   "cell_type": "code",
   "execution_count": 186,
   "id": "5b2b90a9",
   "metadata": {},
   "outputs": [],
   "source": [
    "model.compile(optimizer='adam', loss='categorical_crossentropy', metrics=['accuracy'])"
   ]
  },
  {
   "cell_type": "markdown",
   "id": "2e890636",
   "metadata": {},
   "source": [
    "Se entrena el modelo con 10 epochs"
   ]
  },
  {
   "cell_type": "code",
   "execution_count": 214,
   "id": "a93ba06c",
   "metadata": {},
   "outputs": [
    {
     "name": "stdout",
     "output_type": "stream",
     "text": [
      "Epoch 1/4\n",
      "238/238 [==============================] - 82s 346ms/step - loss: 0.3416 - accuracy: 0.8853 - val_loss: 3.4988 - val_accuracy: 0.3263\n",
      "Epoch 2/4\n",
      "238/238 [==============================] - 80s 335ms/step - loss: 0.2438 - accuracy: 0.9226 - val_loss: 3.6635 - val_accuracy: 0.3453\n",
      "Epoch 3/4\n",
      "238/238 [==============================] - 74s 313ms/step - loss: 0.1982 - accuracy: 0.9403 - val_loss: 3.9844 - val_accuracy: 0.2874\n",
      "Epoch 4/4\n",
      "238/238 [==============================] - 78s 329ms/step - loss: 0.1708 - accuracy: 0.9474 - val_loss: 3.8434 - val_accuracy: 0.3084\n"
     ]
    },
    {
     "data": {
      "text/plain": [
       "<keras.callbacks.History at 0x26efb643f50>"
      ]
     },
     "execution_count": 214,
     "metadata": {},
     "output_type": "execute_result"
    }
   ],
   "source": [
    "model.fit(X_train, y_train, epochs=4, batch_size=16, validation_data=(X_test, y_test))"
   ]
  },
  {
   "cell_type": "markdown",
   "id": "4f0c7834",
   "metadata": {},
   "source": [
    "Se Clasifican las imágenes de prueba y generar el archivo CSV"
   ]
  },
  {
   "cell_type": "code",
   "execution_count": 215,
   "id": "3dcf5b1c",
   "metadata": {},
   "outputs": [],
   "source": [
    "test_folder = 'data/test'\n",
    "test_images = []"
   ]
  },
  {
   "cell_type": "markdown",
   "id": "89ac021b",
   "metadata": {},
   "source": [
    "Se leen las imágenes de prueba y preprocesarlas"
   ]
  },
  {
   "cell_type": "code",
   "execution_count": 216,
   "id": "d616bf11",
   "metadata": {},
   "outputs": [],
   "source": [
    "for file_name in os.listdir(test_folder):\n",
    "    image_path = os.path.join(test_folder, file_name)\n",
    "    image = Image.open(image_path).convert('L')\n",
    "    image = image.resize((128, 128))\n",
    "    image_array = np.array(image)\n",
    "    test_images.append(image_array)"
   ]
  },
  {
   "cell_type": "markdown",
   "id": "ebca289a",
   "metadata": {},
   "source": [
    "Se convierten las imágenes de prueba a un array numpy y normalizar los valores de píxel"
   ]
  },
  {
   "cell_type": "code",
   "execution_count": 217,
   "id": "28929275",
   "metadata": {},
   "outputs": [],
   "source": [
    "test_images = np.array(test_images) / 255.0"
   ]
  },
  {
   "cell_type": "markdown",
   "id": "7fe474d6",
   "metadata": {},
   "source": [
    "Se realizan las predicciones en las imágenes de prueba"
   ]
  },
  {
   "cell_type": "code",
   "execution_count": 218,
   "id": "02339fe0",
   "metadata": {},
   "outputs": [
    {
     "name": "stdout",
     "output_type": "stream",
     "text": [
      "25/25 [==============================] - 2s 93ms/step\n"
     ]
    }
   ],
   "source": [
    "predictions = model.predict(test_images)"
   ]
  },
  {
   "cell_type": "markdown",
   "id": "6c20d7c9",
   "metadata": {},
   "source": [
    "Se obtienen las etiquetas predichas para cada imagen"
   ]
  },
  {
   "cell_type": "code",
   "execution_count": 219,
   "id": "91a83211",
   "metadata": {},
   "outputs": [],
   "source": [
    "predicted_labels = label_encoder.inverse_transform(np.argmax(predictions, axis=1))"
   ]
  },
  {
   "cell_type": "markdown",
   "id": "e5407cb6",
   "metadata": {},
   "source": [
    "Se genera un DataFrame con los nombres de archivo y las etiquetas predichas"
   ]
  },
  {
   "cell_type": "code",
   "execution_count": 220,
   "id": "4e76db3c",
   "metadata": {},
   "outputs": [],
   "source": [
    "results_df = pd.DataFrame({'file': os.listdir(test_folder), 'species': predicted_labels})"
   ]
  },
  {
   "cell_type": "markdown",
   "id": "307743e7",
   "metadata": {},
   "source": [
    "Se guardan los resultados en un archivo CSV"
   ]
  },
  {
   "cell_type": "code",
   "execution_count": 221,
   "id": "80f6fb81",
   "metadata": {},
   "outputs": [],
   "source": [
    "predictions_file = os.path.join('data', 'predictions.csv')\n",
    "results_df.to_csv(predictions_file, index=False)"
   ]
  },
  {
   "cell_type": "markdown",
   "id": "1f32e383",
   "metadata": {},
   "source": [
    "Se muestran los resultados"
   ]
  },
  {
   "cell_type": "code",
   "execution_count": 222,
   "id": "324b6a7c",
   "metadata": {},
   "outputs": [
    {
     "name": "stdout",
     "output_type": "stream",
     "text": [
      "              file                    species\n",
      "0    0021e90e4.png                Black-grass\n",
      "1    003d61042.png           Loose Silky-bent\n",
      "2    007b3da8b.png                      Maize\n",
      "3    0086a6340.png           Common Chickweed\n",
      "4    00c47e980.png           Loose Silky-bent\n",
      "..             ...                        ...\n",
      "789  fea355851.png           Common Chickweed\n",
      "790  fea3da57c.png           Loose Silky-bent\n",
      "791  fef2ade8c.png           Loose Silky-bent\n",
      "792  ff65bc002.png  Small-flowered Cranesbill\n",
      "793  ffc6f8527.png                      Maize\n",
      "\n",
      "[794 rows x 2 columns]\n"
     ]
    }
   ],
   "source": [
    "predictions_data = pd.read_csv(predictions_file)\n",
    "print(predictions_data)"
   ]
  },
  {
   "cell_type": "code",
   "execution_count": null,
   "id": "7646aecd",
   "metadata": {},
   "outputs": [],
   "source": []
  }
 ],
 "metadata": {
  "kernelspec": {
   "display_name": "Python 3 (ipykernel)",
   "language": "python",
   "name": "python3"
  },
  "language_info": {
   "codemirror_mode": {
    "name": "ipython",
    "version": 3
   },
   "file_extension": ".py",
   "mimetype": "text/x-python",
   "name": "python",
   "nbconvert_exporter": "python",
   "pygments_lexer": "ipython3",
   "version": "3.11.3"
  }
 },
 "nbformat": 4,
 "nbformat_minor": 5
}
