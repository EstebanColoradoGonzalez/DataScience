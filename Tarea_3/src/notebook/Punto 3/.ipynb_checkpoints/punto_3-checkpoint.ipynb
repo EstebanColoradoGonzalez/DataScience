{
 "cells": [
  {
   "cell_type": "code",
   "execution_count": 2,
   "metadata": {},
   "outputs": [
    {
     "name": "stdout",
     "output_type": "stream",
     "text": [
      "Collecting requests\n",
      "  Downloading requests-2.30.0-py3-none-any.whl (62 kB)\n",
      "                                              0.0/62.5 kB ? eta -:--:--\n",
      "     ---------------------------------------- 62.5/62.5 kB 3.5 MB/s eta 0:00:00\n",
      "Collecting charset-normalizer<4,>=2 (from requests)\n",
      "  Downloading charset_normalizer-3.1.0-cp311-cp311-win_amd64.whl (96 kB)\n",
      "                                              0.0/96.7 kB ? eta -:--:--\n",
      "     ---------------------------------------- 96.7/96.7 kB ? eta 0:00:00\n",
      "Requirement already satisfied: idna<4,>=2.5 in c:\\users\\esteban\\appdata\\local\\programs\\python\\python311\\lib\\site-packages (from requests) (3.4)\n",
      "Collecting urllib3<3,>=1.21.1 (from requests)\n",
      "  Downloading urllib3-2.0.2-py3-none-any.whl (123 kB)\n",
      "                                              0.0/123.2 kB ? eta -:--:--\n",
      "     -----------------------                  71.7/123.2 kB ? eta -:--:--\n",
      "     -----------------------                  71.7/123.2 kB ? eta -:--:--\n",
      "     ---------------------------           92.2/123.2 kB 744.7 kB/s eta 0:00:01\n",
      "     ------------------------------------ 123.2/123.2 kB 657.0 kB/s eta 0:00:00\n",
      "Collecting certifi>=2017.4.17 (from requests)\n",
      "  Downloading certifi-2023.5.7-py3-none-any.whl (156 kB)\n",
      "                                              0.0/157.0 kB ? eta -:--:--\n",
      "     ---------------------------------------- 157.0/157.0 kB ? eta 0:00:00\n",
      "Installing collected packages: urllib3, charset-normalizer, certifi, requests\n",
      "Successfully installed certifi-2023.5.7 charset-normalizer-3.1.0 requests-2.30.0 urllib3-2.0.2\n"
     ]
    }
   ],
   "source": [
    "!pip install requests"
   ]
  },
  {
   "cell_type": "code",
   "execution_count": 62,
   "metadata": {},
   "outputs": [],
   "source": [
    "import requests\n",
    "import numpy as np\n",
    "import pandas as pd\n",
    "import re\n",
    "from collections import defaultdict\n",
    "import matplotlib.pyplot as plt\n",
    "import seaborn as sns\n",
    "from sklearn.feature_extraction.text import TfidfVectorizer\n",
    "from sklearn.linear_model import LogisticRegression\n",
    "from sklearn.ensemble import RandomForestClassifier, GradientBoostingClassifier\n",
    "from sklearn.metrics import confusion_matrix, accuracy_score, precision_score, recall_score\n",
    "from sklearn.preprocessing import StandardScaler"
   ]
  },
  {
   "cell_type": "markdown",
   "metadata": {},
   "source": [
    "# 3. Utilizando el servicio del dataset de datos abiertos 'https://www.datos.gov.co/Ciencia-Tecnolog-a-e-Innovaci-n/Contenidos-Youtube/v98q-23dp', vamos a hacer un clasificador del tipo de contenido basados en el titulo:\n"
   ]
  },
  {
   "cell_type": "markdown",
   "metadata": {},
   "source": [
    "URL del Servicio"
   ]
  },
  {
   "cell_type": "code",
   "execution_count": 4,
   "metadata": {},
   "outputs": [],
   "source": [
    "url = \"https://www.datos.gov.co/resource/v98q-23dp.json?$query=SELECT%0A%20%20%60titulo%60%2C%0A%20%20%60descripcion%60%2C%0A%20%20%60url_lista_de_reproduccion%60%2C%0A%20%20%60plataforma%60\""
   ]
  },
  {
   "cell_type": "markdown",
   "metadata": {},
   "source": [
    "Se realiza la solicitud GET"
   ]
  },
  {
   "cell_type": "code",
   "execution_count": 5,
   "metadata": {},
   "outputs": [],
   "source": [
    "response = requests.get(url)"
   ]
  },
  {
   "cell_type": "markdown",
   "metadata": {},
   "source": [
    "Se Verifica el código de respuesta"
   ]
  },
  {
   "cell_type": "code",
   "execution_count": 6,
   "metadata": {},
   "outputs": [
    {
     "name": "stdout",
     "output_type": "stream",
     "text": [
      "                                              titulo           descripcion   \n",
      "0                       Urbílogo - Bogotá dominguera       Entretenimiento  \\\n",
      "1       Historias en bici - Sibaté pedalea su pasado              Deportes   \n",
      "2                      Today in replay 18 de febrero              Deportes   \n",
      "3  Documentales: 'Camilo, el cura guerrillero' - ...  Película y Animación   \n",
      "4  En cine nos vemos - Cuchillo de palo - Renate ...  Película y Animación   \n",
      "\n",
      "                     url_lista_de_reproduccion      plataforma  \n",
      "0  https://www.youtube.com/watch?v=2SNMqfo8COo  Señal Colombia  \n",
      "1  https://www.youtube.com/watch?v=ooEcRqrIyF8  Señal Deportes  \n",
      "2  https://www.youtube.com/watch?v=jzNsXnuQpDU  Señal Deportes  \n",
      "3  https://www.youtube.com/watch?v=2vFrMJlP9OY  Señal Colombia  \n",
      "4  https://www.youtube.com/watch?v=VCtHtjphNOY  Señal Colombia  \n"
     ]
    }
   ],
   "source": [
    "if response.status_code == 200:\n",
    "    # Convertir la respuesta JSON en un dataframe de pandas\n",
    "    data = response.json()\n",
    "    df = pd.DataFrame(data)\n",
    "    # Mostrar los primeros registros del dataframe\n",
    "    print(df.head())\n",
    "else:\n",
    "    print(\"Error al obtener los datos:\", response.status_code)"
   ]
  },
  {
   "cell_type": "markdown",
   "metadata": {},
   "source": [
    "Se crea un diccionario para almacenar la frecuencia de palabras"
   ]
  },
  {
   "cell_type": "code",
   "execution_count": 8,
   "metadata": {},
   "outputs": [],
   "source": [
    "word_frequency = defaultdict(int)"
   ]
  },
  {
   "cell_type": "markdown",
   "metadata": {},
   "source": [
    "Se Recorren los títulos y contar la frecuencia de palabras"
   ]
  },
  {
   "cell_type": "code",
   "execution_count": 9,
   "metadata": {},
   "outputs": [],
   "source": [
    "for titulo in df['titulo']:\n",
    "    # Convertir el texto a minúsculas y remover tildes\n",
    "    titulo = titulo.lower()\n",
    "    titulo = titulo.replace('á', 'a').replace('é', 'e').replace('í', 'i').replace('ó', 'o').replace('ú', 'u')\n",
    "    # Eliminar caracteres no alfanuméricos y dividir en palabras\n",
    "    palabras = re.findall(r'\\b\\w+\\b', titulo)\n",
    "    # Contar la frecuencia de palabras\n",
    "    for palabra in palabras:\n",
    "        word_frequency[palabra] += 1"
   ]
  },
  {
   "cell_type": "markdown",
   "metadata": {},
   "source": [
    "Se Obtienen el número total de palabras únicas"
   ]
  },
  {
   "cell_type": "code",
   "execution_count": 11,
   "metadata": {},
   "outputs": [],
   "source": [
    "num_palabras_unicas = len(word_frequency)"
   ]
  },
  {
   "cell_type": "markdown",
   "metadata": {},
   "source": [
    "Se obtiene el número total de repeticiones de palabras"
   ]
  },
  {
   "cell_type": "code",
   "execution_count": 12,
   "metadata": {},
   "outputs": [],
   "source": [
    "num_repeticiones_palabras = sum(word_frequency.values())"
   ]
  },
  {
   "cell_type": "markdown",
   "metadata": {},
   "source": [
    "Se muestran los resultados"
   ]
  },
  {
   "cell_type": "code",
   "execution_count": 14,
   "metadata": {},
   "outputs": [
    {
     "name": "stdout",
     "output_type": "stream",
     "text": [
      "Número total de palabras únicas: 2124\n",
      "Número total de repeticiones de palabras: 7736\n"
     ]
    }
   ],
   "source": [
    "print(\"Número total de palabras únicas:\", num_palabras_unicas)\n",
    "print(\"Número total de repeticiones de palabras:\", num_repeticiones_palabras)"
   ]
  },
  {
   "cell_type": "markdown",
   "metadata": {},
   "source": [
    "Se Crea una lista de todas las palabras únicas"
   ]
  },
  {
   "cell_type": "code",
   "execution_count": null,
   "metadata": {},
   "outputs": [],
   "source": [
    "palabras_unicas = list(word_frequency.keys())"
   ]
  },
  {
   "cell_type": "markdown",
   "metadata": {},
   "source": [
    "Se crea un diccionario para almacenar las frecuencias de palabras por título"
   ]
  },
  {
   "cell_type": "code",
   "execution_count": 16,
   "metadata": {},
   "outputs": [],
   "source": [
    "frecuencias_por_titulo = defaultdict(lambda: defaultdict(int))"
   ]
  },
  {
   "cell_type": "markdown",
   "metadata": {},
   "source": [
    "Se recorren los títulos y contar las frecuencias de palabras por título"
   ]
  },
  {
   "cell_type": "code",
   "execution_count": 17,
   "metadata": {},
   "outputs": [],
   "source": [
    "for i, titulo in enumerate(df['titulo']):\n",
    "    titulo = titulo.lower()\n",
    "    titulo = titulo.replace('á', 'a').replace('é', 'e').replace('í', 'i').replace('ó', 'o').replace('ú', 'u')\n",
    "    palabras = re.findall(r'\\b\\w+\\b', titulo)\n",
    "    for palabra in palabras:\n",
    "        frecuencias_por_titulo[i][palabra] += 1"
   ]
  },
  {
   "cell_type": "markdown",
   "metadata": {},
   "source": [
    "Se crea la matriz como un dataframe de pandas"
   ]
  },
  {
   "cell_type": "code",
   "execution_count": 18,
   "metadata": {},
   "outputs": [],
   "source": [
    "matriz = pd.DataFrame(0, index=df['titulo'], columns=palabras_unicas)"
   ]
  },
  {
   "cell_type": "markdown",
   "metadata": {},
   "source": [
    "Se rellenan la matriz con las frecuencias de palabras"
   ]
  },
  {
   "cell_type": "code",
   "execution_count": 19,
   "metadata": {},
   "outputs": [],
   "source": [
    "for i, titulo in enumerate(df['titulo']):\n",
    "    for palabra, frecuencia in frecuencias_por_titulo[i].items():\n",
    "        matriz.loc[titulo, palabra] = frecuencia"
   ]
  },
  {
   "cell_type": "markdown",
   "metadata": {},
   "source": [
    "Se Imprime la matriz"
   ]
  },
  {
   "cell_type": "code",
   "execution_count": 20,
   "metadata": {},
   "outputs": [
    {
     "name": "stdout",
     "output_type": "stream",
     "text": [
      "                                                    urbilogo  bogota   \n",
      "titulo                                                                 \n",
      "Urbílogo - Bogotá dominguera                               1       1  \\\n",
      "Historias en bici - Sibaté pedalea su pasado               0       0   \n",
      "Today in replay 18 de febrero                              0       0   \n",
      "Documentales: 'Camilo, el cura guerrillero' - H...         0       0   \n",
      "En cine nos vemos - Cuchillo de palo - Renate C...         0       0   \n",
      "...                                                      ...     ...   \n",
      "Para ver TV - Deporte                                      0       0   \n",
      "Franja Retro - NN                                          0       0   \n",
      "Todo lo que vemos - 118 - Televidentes - Frank ...         0       0   \n",
      "sillón justicia música e identidad                         0       0   \n",
      "Cocina en familia con Josefina: Lentejas Ultra ...         0       0   \n",
      "\n",
      "                                                    dominguera  historias  en   \n",
      "titulo                                                                          \n",
      "Urbílogo - Bogotá dominguera                                 1          0   0  \\\n",
      "Historias en bici - Sibaté pedalea su pasado                 0          1   1   \n",
      "Today in replay 18 de febrero                                0          0   0   \n",
      "Documentales: 'Camilo, el cura guerrillero' - H...           0          0   0   \n",
      "En cine nos vemos - Cuchillo de palo - Renate C...           0          0   1   \n",
      "...                                                        ...        ...  ..   \n",
      "Para ver TV - Deporte                                        0          0   0   \n",
      "Franja Retro - NN                                            0          0   0   \n",
      "Todo lo que vemos - 118 - Televidentes - Frank ...           0          0   0   \n",
      "sillón justicia música e identidad                           0          0   0   \n",
      "Cocina en familia con Josefina: Lentejas Ultra ...           0          0   1   \n",
      "\n",
      "                                                    bici  sibate  pedalea  su   \n",
      "titulo                                                                          \n",
      "Urbílogo - Bogotá dominguera                           0       0        0   0  \\\n",
      "Historias en bici - Sibaté pedalea su pasado           1       1        1   1   \n",
      "Today in replay 18 de febrero                          0       0        0   0   \n",
      "Documentales: 'Camilo, el cura guerrillero' - H...     0       0        0   0   \n",
      "En cine nos vemos - Cuchillo de palo - Renate C...     0       0        0   0   \n",
      "...                                                  ...     ...      ...  ..   \n",
      "Para ver TV - Deporte                                  0       0        0   0   \n",
      "Franja Retro - NN                                      0       0        0   0   \n",
      "Todo lo que vemos - 118 - Televidentes - Frank ...     0       0        0   0   \n",
      "sillón justicia música e identidad                     0       0        0   0   \n",
      "Cocina en familia con Josefina: Lentejas Ultra ...     0       0        0   0   \n",
      "\n",
      "                                                    pasado  ...  victor   \n",
      "titulo                                                      ...           \n",
      "Urbílogo - Bogotá dominguera                             0  ...       0  \\\n",
      "Historias en bici - Sibaté pedalea su pasado             1  ...       0   \n",
      "Today in replay 18 de febrero                            0  ...       0   \n",
      "Documentales: 'Camilo, el cura guerrillero' - H...       0  ...       0   \n",
      "En cine nos vemos - Cuchillo de palo - Renate C...       0  ...       0   \n",
      "...                                                    ...  ...     ...   \n",
      "Para ver TV - Deporte                                    0  ...       0   \n",
      "Franja Retro - NN                                        0  ...       0   \n",
      "Todo lo que vemos - 118 - Televidentes - Frank ...       0  ...       0   \n",
      "sillón justicia música e identidad                       0  ...       0   \n",
      "Cocina en familia con Josefina: Lentejas Ultra ...       0  ...       0   \n",
      "\n",
      "                                                    firmes  nn  118  soto   \n",
      "titulo                                                                      \n",
      "Urbílogo - Bogotá dominguera                             0   0    0     0  \\\n",
      "Historias en bici - Sibaté pedalea su pasado             0   0    0     0   \n",
      "Today in replay 18 de febrero                            0   0    0     0   \n",
      "Documentales: 'Camilo, el cura guerrillero' - H...       0   0    0     0   \n",
      "En cine nos vemos - Cuchillo de palo - Renate C...       0   0    0     0   \n",
      "...                                                    ...  ..  ...   ...   \n",
      "Para ver TV - Deporte                                    0   0    0     0   \n",
      "Franja Retro - NN                                        0   1    0     0   \n",
      "Todo lo que vemos - 118 - Televidentes - Frank ...       0   0    1     1   \n",
      "sillón justicia música e identidad                       0   0    0     0   \n",
      "Cocina en familia con Josefina: Lentejas Ultra ...       0   0    0     0   \n",
      "\n",
      "                                                    justicia  identidad   \n",
      "titulo                                                                    \n",
      "Urbílogo - Bogotá dominguera                               0          0  \\\n",
      "Historias en bici - Sibaté pedalea su pasado               0          0   \n",
      "Today in replay 18 de febrero                              0          0   \n",
      "Documentales: 'Camilo, el cura guerrillero' - H...         0          0   \n",
      "En cine nos vemos - Cuchillo de palo - Renate C...         0          0   \n",
      "...                                                      ...        ...   \n",
      "Para ver TV - Deporte                                      0          0   \n",
      "Franja Retro - NN                                          0          0   \n",
      "Todo lo que vemos - 118 - Televidentes - Frank ...         0          0   \n",
      "sillón justicia música e identidad                         1          1   \n",
      "Cocina en familia con Josefina: Lentejas Ultra ...         0          0   \n",
      "\n",
      "                                                    lentejas  ultra  poderosas  \n",
      "titulo                                                                          \n",
      "Urbílogo - Bogotá dominguera                               0      0          0  \n",
      "Historias en bici - Sibaté pedalea su pasado               0      0          0  \n",
      "Today in replay 18 de febrero                              0      0          0  \n",
      "Documentales: 'Camilo, el cura guerrillero' - H...         0      0          0  \n",
      "En cine nos vemos - Cuchillo de palo - Renate C...         0      0          0  \n",
      "...                                                      ...    ...        ...  \n",
      "Para ver TV - Deporte                                      0      0          0  \n",
      "Franja Retro - NN                                          0      0          0  \n",
      "Todo lo que vemos - 118 - Televidentes - Frank ...         0      0          0  \n",
      "sillón justicia música e identidad                         0      0          0  \n",
      "Cocina en familia con Josefina: Lentejas Ultra ...         1      1          1  \n",
      "\n",
      "[1000 rows x 2124 columns]\n"
     ]
    }
   ],
   "source": [
    "print(matriz)"
   ]
  },
  {
   "cell_type": "markdown",
   "metadata": {},
   "source": [
    "Se obtienen las 10 palabras más comunes"
   ]
  },
  {
   "cell_type": "code",
   "execution_count": 22,
   "metadata": {},
   "outputs": [],
   "source": [
    "palabras_comunes = sorted(word_frequency.items(), key=lambda x: x[1], reverse=True)[:10]\n",
    "palabras_comunes = [palabra[0] for palabra in palabras_comunes]"
   ]
  },
  {
   "cell_type": "markdown",
   "metadata": {},
   "source": [
    "Se crea una lista para almacenar las frecuencias normalizadas de las palabras en la matriz TF"
   ]
  },
  {
   "cell_type": "code",
   "execution_count": 23,
   "metadata": {},
   "outputs": [],
   "source": [
    "tf_palabras = []"
   ]
  },
  {
   "cell_type": "markdown",
   "metadata": {},
   "source": [
    "Se crea una lista para almacenar las frecuencias de las palabras en la matriz original"
   ]
  },
  {
   "cell_type": "code",
   "execution_count": 24,
   "metadata": {},
   "outputs": [],
   "source": [
    "frecuencias_palabras = []"
   ]
  },
  {
   "cell_type": "markdown",
   "metadata": {},
   "source": [
    "Se recorren los títulos y calcular las frecuencias normalizadas de las palabras"
   ]
  },
  {
   "cell_type": "code",
   "execution_count": 25,
   "metadata": {},
   "outputs": [],
   "source": [
    "for i, titulo in enumerate(df['titulo']):\n",
    "    titulo = titulo.lower()\n",
    "    titulo = titulo.replace('á', 'a').replace('é', 'e').replace('í', 'i').replace('ó', 'o').replace('ú', 'u')\n",
    "    palabras = re.findall(r'\\b\\w+\\b', titulo)\n",
    "    frecuencias = [frecuencias_por_titulo[i][palabra] for palabra in palabras]\n",
    "    frecuencias_palabras.append(frecuencias)\n",
    "    tf_frecuencias = [frecuencia / len(palabras) for frecuencia in frecuencias]\n",
    "    tf_palabras.append(tf_frecuencias)"
   ]
  },
  {
   "cell_type": "markdown",
   "metadata": {},
   "source": [
    "Se crea un dataframe de pandas con las frecuencias de palabras"
   ]
  },
  {
   "cell_type": "code",
   "execution_count": 32,
   "metadata": {},
   "outputs": [],
   "source": [
    "df_frecuencias = pd.DataFrame(matriz.values, columns=palabras_unicas)"
   ]
  },
  {
   "cell_type": "markdown",
   "metadata": {},
   "source": [
    "Se crea un dataframe de pandas con las frecuencias normalizadas de palabras (matriz TF)"
   ]
  },
  {
   "cell_type": "code",
   "execution_count": 34,
   "metadata": {},
   "outputs": [],
   "source": [
    "df_tf = pd.DataFrame(matriz.values, columns=palabras_unicas)"
   ]
  },
  {
   "cell_type": "markdown",
   "metadata": {},
   "source": [
    "Se crea una matriz de correlación utilizando dummy variables para las variables objetivo"
   ]
  },
  {
   "cell_type": "code",
   "execution_count": 37,
   "metadata": {},
   "outputs": [],
   "source": [
    "df_dummies = pd.get_dummies(df['descripcion'])\n",
    "matriz_correlacion = pd.concat([df_frecuencias, df_dummies], axis=1).corr()"
   ]
  },
  {
   "cell_type": "markdown",
   "metadata": {},
   "source": [
    "Se genera el gráfico de barras con las 10 palabras más comunes"
   ]
  },
  {
   "cell_type": "code",
   "execution_count": 38,
   "metadata": {},
   "outputs": [
    {
     "data": {
      "image/png": "[encoded data removed]",
      "text/plain": [
       "<Figure size 1000x600 with 1 Axes>"
      ]
     },
     "metadata": {},
     "output_type": "display_data"
    }
   ],
   "source": [
    "plt.figure(figsize=(10, 6))\n",
    "sns.barplot(x=palabras_comunes, y=[word_frequency[palabra] for palabra in palabras_comunes])\n",
    "plt.xlabel('Palabras')\n",
    "plt.ylabel('Frecuencia')\n",
    "plt.title('Palabras más comunes')\n",
    "plt.show()"
   ]
  },
  {
   "cell_type": "markdown",
   "metadata": {},
   "source": [
    "Se imprime la matriz TF modificada"
   ]
  },
  {
   "cell_type": "code",
   "execution_count": 39,
   "metadata": {},
   "outputs": [
    {
     "name": "stdout",
     "output_type": "stream",
     "text": [
      "     urbilogo  bogota  dominguera  historias  en  bici  sibate  pedalea  su   \n",
      "0           1       1           1          0   0     0       0        0   0  \\\n",
      "1           0       0           0          1   1     1       1        1   1   \n",
      "2           0       0           0          0   0     0       0        0   0   \n",
      "3           0       0           0          0   0     0       0        0   0   \n",
      "4           0       0           0          0   1     0       0        0   0   \n",
      "..        ...     ...         ...        ...  ..   ...     ...      ...  ..   \n",
      "995         0       0           0          0   0     0       0        0   0   \n",
      "996         0       0           0          0   0     0       0        0   0   \n",
      "997         0       0           0          0   0     0       0        0   0   \n",
      "998         0       0           0          0   0     0       0        0   0   \n",
      "999         0       0           0          0   1     0       0        0   0   \n",
      "\n",
      "     pasado  ...  victor  firmes  nn  118  soto  justicia  identidad   \n",
      "0         0  ...       0       0   0    0     0         0          0  \\\n",
      "1         1  ...       0       0   0    0     0         0          0   \n",
      "2         0  ...       0       0   0    0     0         0          0   \n",
      "3         0  ...       0       0   0    0     0         0          0   \n",
      "4         0  ...       0       0   0    0     0         0          0   \n",
      "..      ...  ...     ...     ...  ..  ...   ...       ...        ...   \n",
      "995       0  ...       0       0   0    0     0         0          0   \n",
      "996       0  ...       0       0   1    0     0         0          0   \n",
      "997       0  ...       0       0   0    1     1         0          0   \n",
      "998       0  ...       0       0   0    0     0         1          1   \n",
      "999       0  ...       0       0   0    0     0         0          0   \n",
      "\n",
      "     lentejas  ultra  poderosas  \n",
      "0           0      0          0  \n",
      "1           0      0          0  \n",
      "2           0      0          0  \n",
      "3           0      0          0  \n",
      "4           0      0          0  \n",
      "..        ...    ...        ...  \n",
      "995         0      0          0  \n",
      "996         0      0          0  \n",
      "997         0      0          0  \n",
      "998         0      0          0  \n",
      "999         1      1          1  \n",
      "\n",
      "[1000 rows x 2124 columns]\n"
     ]
    }
   ],
   "source": [
    "print(df_tf)"
   ]
  },
  {
   "cell_type": "markdown",
   "metadata": {},
   "source": [
    "Se Imprime la matriz de correlación"
   ]
  },
  {
   "cell_type": "code",
   "execution_count": 40,
   "metadata": {},
   "outputs": [
    {
     "name": "stdout",
     "output_type": "stream",
     "text": [
      "                                urbilogo    bogota  dominguera  historias   \n",
      "urbilogo                        1.000000  0.255347    0.576772  -0.004926  \\\n",
      "bogota                          0.255347  1.000000    0.446317  -0.006366   \n",
      "dominguera                      0.576772  0.446317    1.000000  -0.002841   \n",
      "historias                      -0.004926 -0.006366   -0.002841   1.000000   \n",
      "en                             -0.020512  0.050887   -0.011831   0.242170   \n",
      "...                                  ...       ...         ...        ...   \n",
      "Música                         -0.011342 -0.014657   -0.006542  -0.018568   \n",
      "Noticias y Política            -0.001736 -0.002243   -0.001001  -0.002841   \n",
      "Película y Animación           -0.028878  0.031471   -0.016656  -0.020043   \n",
      "Sin fines de lucro y Activismo -0.001736 -0.002243   -0.001001  -0.002841   \n",
      "Viajes y Eventos               -0.006045 -0.007812   -0.003487  -0.009897   \n",
      "\n",
      "                                      en      bici    sibate   pedalea   \n",
      "urbilogo                       -0.020512 -0.004042 -0.001736 -0.001736  \\\n",
      "bogota                          0.050887 -0.005223 -0.002243 -0.002243   \n",
      "dominguera                     -0.011831 -0.002331 -0.001001 -0.001001   \n",
      "historias                       0.242170  0.820509  0.352313  0.352313   \n",
      "en                              1.000000  0.307640  0.074525  0.074525   \n",
      "...                                  ...       ...       ...       ...   \n",
      "Música                         -0.036023 -0.015235 -0.006542 -0.006542   \n",
      "Noticias y Política            -0.011831 -0.002331 -0.001001 -0.001001   \n",
      "Película y Animación            0.167334 -0.038790 -0.016656 -0.016656   \n",
      "Sin fines de lucro y Activismo -0.011831 -0.002331 -0.001001 -0.001001   \n",
      "Viajes y Eventos               -0.041210 -0.008121 -0.003487 -0.003487   \n",
      "\n",
      "                                      su    pasado  ...  Deportes  Educación   \n",
      "urbilogo                       -0.005513 -0.001736  ... -0.030488  -0.022224  \\\n",
      "bogota                         -0.007125 -0.002243  ...  0.027379  -0.028720   \n",
      "dominguera                     -0.003180 -0.001001  ... -0.017584  -0.012818   \n",
      "historias                       0.103793  0.352313  ...  0.108705  -0.036383   \n",
      "en                              0.017282  0.074525  ...  0.107141  -0.112284   \n",
      "...                                  ...       ...  ...       ...        ...   \n",
      "Música                         -0.020781 -0.006542  ... -0.114919  -0.083771   \n",
      "Noticias y Política            -0.003180 -0.001001  ... -0.017584  -0.012818   \n",
      "Película y Animación            0.069001 -0.016656  ... -0.292589  -0.213286   \n",
      "Sin fines de lucro y Activismo -0.003180 -0.001001  ... -0.017584  -0.012818   \n",
      "Viajes y Eventos               -0.011076 -0.003487  ... -0.061252  -0.044650   \n",
      "\n",
      "                                Entretenimiento  Gente y Blogs   \n",
      "urbilogo                               0.088182      -0.014700  \\\n",
      "bogota                                -0.012486      -0.018996   \n",
      "dominguera                             0.050861      -0.008478   \n",
      "historias                             -0.030835      -0.024065   \n",
      "en                                    -0.123069      -0.023788   \n",
      "...                                         ...            ...   \n",
      "Música                                -0.128623      -0.055409   \n",
      "Noticias y Política                   -0.019681      -0.008478   \n",
      "Película y Animación                  -0.327479      -0.141074   \n",
      "Sin fines de lucro y Activismo        -0.019681      -0.008478   \n",
      "Viajes y Eventos                      -0.068556      -0.029533   \n",
      "\n",
      "                                Mascotas y Animales    Música   \n",
      "urbilogo                                  -0.001736 -0.011342  \\\n",
      "bogota                                    -0.002243 -0.014657   \n",
      "dominguera                                -0.001001 -0.006542   \n",
      "historias                                 -0.002841 -0.018568   \n",
      "en                                        -0.011831 -0.036023   \n",
      "...                                             ...       ...   \n",
      "Música                                    -0.006542  1.000000   \n",
      "Noticias y Política                       -0.001001 -0.006542   \n",
      "Película y Animación                      -0.016656 -0.108851   \n",
      "Sin fines de lucro y Activismo            -0.001001 -0.006542   \n",
      "Viajes y Eventos                          -0.003487 -0.022787   \n",
      "\n",
      "                                Noticias y Política  Película y Animación   \n",
      "urbilogo                                  -0.001736             -0.028878  \\\n",
      "bogota                                    -0.002243              0.031471   \n",
      "dominguera                                -0.001001             -0.016656   \n",
      "historias                                 -0.002841             -0.020043   \n",
      "en                                        -0.011831              0.167334   \n",
      "...                                             ...                   ...   \n",
      "Música                                    -0.006542             -0.108851   \n",
      "Noticias y Política                        1.000000             -0.016656   \n",
      "Película y Animación                      -0.016656              1.000000   \n",
      "Sin fines de lucro y Activismo            -0.001001             -0.016656   \n",
      "Viajes y Eventos                          -0.003487             -0.058018   \n",
      "\n",
      "                                Sin fines de lucro y Activismo   \n",
      "urbilogo                                             -0.001736  \\\n",
      "bogota                                               -0.002243   \n",
      "dominguera                                           -0.001001   \n",
      "historias                                            -0.002841   \n",
      "en                                                   -0.011831   \n",
      "...                                                        ...   \n",
      "Música                                               -0.006542   \n",
      "Noticias y Política                                  -0.001001   \n",
      "Película y Animación                                 -0.016656   \n",
      "Sin fines de lucro y Activismo                        1.000000   \n",
      "Viajes y Eventos                                     -0.003487   \n",
      "\n",
      "                                Viajes y Eventos  \n",
      "urbilogo                               -0.006045  \n",
      "bogota                                 -0.007812  \n",
      "dominguera                             -0.003487  \n",
      "historias                              -0.009897  \n",
      "en                                     -0.041210  \n",
      "...                                          ...  \n",
      "Música                                 -0.022787  \n",
      "Noticias y Política                    -0.003487  \n",
      "Película y Animación                   -0.058018  \n",
      "Sin fines de lucro y Activismo         -0.003487  \n",
      "Viajes y Eventos                        1.000000  \n",
      "\n",
      "[2136 rows x 2136 columns]\n"
     ]
    }
   ],
   "source": [
    "print(matriz_correlacion)"
   ]
  },
  {
   "cell_type": "markdown",
   "metadata": {},
   "source": [
    "Se calcula el número de títulos que contienen cada palabra"
   ]
  },
  {
   "cell_type": "code",
   "execution_count": 43,
   "metadata": {},
   "outputs": [],
   "source": [
    "num_titulos_con_palabra = np.sum(matriz > 0, axis=0)"
   ]
  },
  {
   "cell_type": "markdown",
   "metadata": {},
   "source": [
    "Se calcula el logaritmo del IDF para cada palabra"
   ]
  },
  {
   "cell_type": "code",
   "execution_count": 44,
   "metadata": {},
   "outputs": [],
   "source": [
    "idf = np.log((len(df) + 1) / (num_titulos_con_palabra + 1))"
   ]
  },
  {
   "cell_type": "markdown",
   "metadata": {},
   "source": [
    "Se crea un DataFrame vacío con las columnas de palabras_unicas"
   ]
  },
  {
   "cell_type": "code",
   "execution_count": 54,
   "metadata": {},
   "outputs": [],
   "source": [
    "df_idf = pd.DataFrame(columns=palabras_unicas)"
   ]
  },
  {
   "cell_type": "markdown",
   "metadata": {},
   "source": [
    "Se calcula IDF para cada título y agregarlo al DataFrame"
   ]
  },
  {
   "cell_type": "code",
   "execution_count": 52,
   "metadata": {},
   "outputs": [],
   "source": [
    "for i in range(len(df['titulo'])):\n",
    "    # Calcular el valor IDF para cada palabra\n",
    "    idf_values = [np.log((len(df['titulo']) + 1) / (idf[j] + 1)) for j in range(len(palabras_unicas))]\n",
    "    # Crear un nuevo DataFrame con los valores IDF para el título actual\n",
    "    df_idf_row = pd.DataFrame([idf_values], columns=palabras_unicas)\n",
    "    # Concatenar el nuevo DataFrame al DataFrame df_idf\n",
    "    df_idf = pd.concat([df_idf, df_idf_row], ignore_index=True)"
   ]
  },
  {
   "cell_type": "markdown",
   "metadata": {},
   "source": [
    "Se imprime la matriz IDF"
   ]
  },
  {
   "cell_type": "code",
   "execution_count": 53,
   "metadata": {},
   "outputs": [
    {
     "name": "stdout",
     "output_type": "stream",
     "text": [
      "     urbilogo    bogota  dominguera  historias        en      bici    sibate   \n",
      "0    5.033503  5.097684    4.932508   5.166268  5.796496  5.123207  4.932508  \\\n",
      "1    5.033503  5.097684    4.932508   5.166268  5.796496  5.123207  4.932508   \n",
      "2    5.033503  5.097684    4.932508   5.166268  5.796496  5.123207  4.932508   \n",
      "3    5.033503  5.097684    4.932508   5.166268  5.796496  5.123207  4.932508   \n",
      "4    5.033503  5.097684    4.932508   5.166268  5.796496  5.123207  4.932508   \n",
      "..        ...       ...         ...        ...       ...       ...       ...   \n",
      "995  5.033503  5.097684    4.932508   5.166268  5.796496  5.123207  4.932508   \n",
      "996  5.033503  5.097684    4.932508   5.166268  5.796496  5.123207  4.932508   \n",
      "997  5.033503  5.097684    4.932508   5.166268  5.796496  5.123207  4.932508   \n",
      "998  5.033503  5.097684    4.932508   5.166268  5.796496  5.123207  4.932508   \n",
      "999  5.033503  5.097684    4.932508   5.166268  5.796496  5.123207  4.932508   \n",
      "\n",
      "      pedalea        su    pasado  ...    victor    firmes        nn   \n",
      "0    4.932508  5.202034  4.932508  ...  4.932508  4.932508  4.932508  \\\n",
      "1    4.932508  5.202034  4.932508  ...  4.932508  4.932508  4.932508   \n",
      "2    4.932508  5.202034  4.932508  ...  4.932508  4.932508  4.932508   \n",
      "3    4.932508  5.202034  4.932508  ...  4.932508  4.932508  4.932508   \n",
      "4    4.932508  5.202034  4.932508  ...  4.932508  4.932508  4.932508   \n",
      "..        ...       ...       ...  ...       ...       ...       ...   \n",
      "995  4.932508  5.202034  4.932508  ...  4.932508  4.932508  4.932508   \n",
      "996  4.932508  5.202034  4.932508  ...  4.932508  4.932508  4.932508   \n",
      "997  4.932508  5.202034  4.932508  ...  4.932508  4.932508  4.932508   \n",
      "998  4.932508  5.202034  4.932508  ...  4.932508  4.932508  4.932508   \n",
      "999  4.932508  5.202034  4.932508  ...  4.932508  4.932508  4.932508   \n",
      "\n",
      "          118      soto  justicia  identidad  lentejas     ultra  poderosas  \n",
      "0    4.932508  4.932508  4.932508   4.932508  4.932508  4.932508   4.932508  \n",
      "1    4.932508  4.932508  4.932508   4.932508  4.932508  4.932508   4.932508  \n",
      "2    4.932508  4.932508  4.932508   4.932508  4.932508  4.932508   4.932508  \n",
      "3    4.932508  4.932508  4.932508   4.932508  4.932508  4.932508   4.932508  \n",
      "4    4.932508  4.932508  4.932508   4.932508  4.932508  4.932508   4.932508  \n",
      "..        ...       ...       ...        ...       ...       ...        ...  \n",
      "995  4.932508  4.932508  4.932508   4.932508  4.932508  4.932508   4.932508  \n",
      "996  4.932508  4.932508  4.932508   4.932508  4.932508  4.932508   4.932508  \n",
      "997  4.932508  4.932508  4.932508   4.932508  4.932508  4.932508   4.932508  \n",
      "998  4.932508  4.932508  4.932508   4.932508  4.932508  4.932508   4.932508  \n",
      "999  4.932508  4.932508  4.932508   4.932508  4.932508  4.932508   4.932508  \n",
      "\n",
      "[1000 rows x 2124 columns]\n"
     ]
    }
   ],
   "source": [
    "print(df_idf)"
   ]
  },
  {
   "cell_type": "markdown",
   "metadata": {},
   "source": [
    "Se multiplica la matriz de TF (matriz) por el vector IDF"
   ]
  },
  {
   "cell_type": "code",
   "execution_count": 56,
   "metadata": {},
   "outputs": [],
   "source": [
    "matriz_tfidf = matriz * idf.to_numpy().reshape(1, -1)"
   ]
  },
  {
   "cell_type": "markdown",
   "metadata": {},
   "source": [
    "Se divide el dataset en conjuntos de entrenamiento y prueba:"
   ]
  },
  {
   "cell_type": "code",
   "execution_count": 58,
   "metadata": {},
   "outputs": [],
   "source": [
    "from sklearn.model_selection import train_test_split\n",
    "\n",
    "X_train, X_test, y_train, y_test = train_test_split(matriz_tfidf, df['titulo'], test_size=0.2, random_state=42)"
   ]
  },
  {
   "cell_type": "markdown",
   "metadata": {},
   "source": [
    "Se crea los modelos y ajústalos utilizando los conjuntos de entrenamiento:"
   ]
  },
  {
   "cell_type": "code",
   "execution_count": 63,
   "metadata": {},
   "outputs": [
    {
     "name": "stderr",
     "output_type": "stream",
     "text": [
      "C:\\Users\\Esteban\\AppData\\Local\\Programs\\Python\\Python311\\Lib\\site-packages\\sklearn\\linear_model\\_logistic.py:458: ConvergenceWarning: lbfgs failed to converge (status=1):\n",
      "STOP: TOTAL NO. of ITERATIONS REACHED LIMIT.\n",
      "\n",
      "Increase the number of iterations (max_iter) or scale the data as shown in:\n",
      "    https://scikit-learn.org/stable/modules/preprocessing.html\n",
      "Please also refer to the documentation for alternative solver options:\n",
      "    https://scikit-learn.org/stable/modules/linear_model.html#logistic-regression\n",
      "  n_iter_i = _check_optimize_result(\n"
     ]
    },
    {
     "data": {
      "text/html": [
       "<style>#sk-container-id-1 {color: black;background-color: white;}#sk-container-id-1 pre{padding: 0;}#sk-container-id-1 div.sk-toggleable {background-color: white;}#sk-container-id-1 label.sk-toggleable__label {cursor: pointer;display: block;width: 100%;margin-bottom: 0;padding: 0.3em;box-sizing: border-box;text-align: center;}#sk-container-id-1 label.sk-toggleable__label-arrow:before {content: \"▸\";float: left;margin-right: 0.25em;color: #696969;}#sk-container-id-1 label.sk-toggleable__label-arrow:hover:before {color: black;}#sk-container-id-1 div.sk-estimator:hover label.sk-toggleable__label-arrow:before {color: black;}#sk-container-id-1 div.sk-toggleable__content {max-height: 0;max-width: 0;overflow: hidden;text-align: left;background-color: #f0f8ff;}#sk-container-id-1 div.sk-toggleable__content pre {margin: 0.2em;color: black;border-radius: 0.25em;background-color: #f0f8ff;}#sk-container-id-1 input.sk-toggleable__control:checked~div.sk-toggleable__content {max-height: 200px;max-width: 100%;overflow: auto;}#sk-container-id-1 input.sk-toggleable__control:checked~label.sk-toggleable__label-arrow:before {content: \"▾\";}#sk-container-id-1 div.sk-estimator input.sk-toggleable__control:checked~label.sk-toggleable__label {background-color: #d4ebff;}#sk-container-id-1 div.sk-label input.sk-toggleable__control:checked~label.sk-toggleable__label {background-color: #d4ebff;}#sk-container-id-1 input.sk-hidden--visually {border: 0;clip: rect(1px 1px 1px 1px);clip: rect(1px, 1px, 1px, 1px);height: 1px;margin: -1px;overflow: hidden;padding: 0;position: absolute;width: 1px;}#sk-container-id-1 div.sk-estimator {font-family: monospace;background-color: #f0f8ff;border: 1px dotted black;border-radius: 0.25em;box-sizing: border-box;margin-bottom: 0.5em;}#sk-container-id-1 div.sk-estimator:hover {background-color: #d4ebff;}#sk-container-id-1 div.sk-parallel-item::after {content: \"\";width: 100%;border-bottom: 1px solid gray;flex-grow: 1;}#sk-container-id-1 div.sk-label:hover label.sk-toggleable__label {background-color: #d4ebff;}#sk-container-id-1 div.sk-serial::before {content: \"\";position: absolute;border-left: 1px solid gray;box-sizing: border-box;top: 0;bottom: 0;left: 50%;z-index: 0;}#sk-container-id-1 div.sk-serial {display: flex;flex-direction: column;align-items: center;background-color: white;padding-right: 0.2em;padding-left: 0.2em;position: relative;}#sk-container-id-1 div.sk-item {position: relative;z-index: 1;}#sk-container-id-1 div.sk-parallel {display: flex;align-items: stretch;justify-content: center;background-color: white;position: relative;}#sk-container-id-1 div.sk-item::before, #sk-container-id-1 div.sk-parallel-item::before {content: \"\";position: absolute;border-left: 1px solid gray;box-sizing: border-box;top: 0;bottom: 0;left: 50%;z-index: -1;}#sk-container-id-1 div.sk-parallel-item {display: flex;flex-direction: column;z-index: 1;position: relative;background-color: white;}#sk-container-id-1 div.sk-parallel-item:first-child::after {align-self: flex-end;width: 50%;}#sk-container-id-1 div.sk-parallel-item:last-child::after {align-self: flex-start;width: 50%;}#sk-container-id-1 div.sk-parallel-item:only-child::after {width: 0;}#sk-container-id-1 div.sk-dashed-wrapped {border: 1px dashed gray;margin: 0 0.4em 0.5em 0.4em;box-sizing: border-box;padding-bottom: 0.4em;background-color: white;}#sk-container-id-1 div.sk-label label {font-family: monospace;font-weight: bold;display: inline-block;line-height: 1.2em;}#sk-container-id-1 div.sk-label-container {text-align: center;}#sk-container-id-1 div.sk-container {/* jupyter's `normalize.less` sets `[hidden] { display: none; }` but bootstrap.min.css set `[hidden] { display: none !important; }` so we also need the `!important` here to be able to override the default hidden behavior on the sphinx rendered scikit-learn.org. See: https://github.com/scikit-learn/scikit-learn/issues/21755 */display: inline-block !important;position: relative;}#sk-container-id-1 div.sk-text-repr-fallback {display: none;}</style><div id=\"sk-container-id-1\" class=\"sk-top-container\"><div class=\"sk-text-repr-fallback\"><pre>LogisticRegression()</pre><b>In a Jupyter environment, please rerun this cell to show the HTML representation or trust the notebook. <br />On GitHub, the HTML representation is unable to render, please try loading this page with nbviewer.org.</b></div><div class=\"sk-container\" hidden><div class=\"sk-item\"><div class=\"sk-estimator sk-toggleable\"><input class=\"sk-toggleable__control sk-hidden--visually\" id=\"sk-estimator-id-1\" type=\"checkbox\" checked><label for=\"sk-estimator-id-1\" class=\"sk-toggleable__label sk-toggleable__label-arrow\">LogisticRegression</label><div class=\"sk-toggleable__content\"><pre>LogisticRegression()</pre></div></div></div></div></div>"
      ],
      "text/plain": [
       "LogisticRegression()"
      ]
     },
     "execution_count": 63,
     "metadata": {},
     "output_type": "execute_result"
    }
   ],
   "source": [
    "# Crea una instancia del StandardScaler\n",
    "scaler = StandardScaler()\n",
    "\n",
    "# Escala los datos de entrenamiento y prueba\n",
    "X_train_scaled = scaler.fit_transform(X_train)\n",
    "X_test_scaled = scaler.transform(X_test)\n",
    "\n",
    "# Ajusta el modelo de regresión logística utilizando los datos escalados\n",
    "logistic_regression.fit(X_train_scaled, y_train)"
   ]
  },
  {
   "cell_type": "code",
   "execution_count": 67,
   "metadata": {},
   "outputs": [
    {
     "ename": "KeyboardInterrupt",
     "evalue": "",
     "output_type": "error",
     "traceback": [
      "\u001b[1;31m---------------------------------------------------------------------------\u001b[0m",
      "\u001b[1;31mKeyboardInterrupt\u001b[0m                         Traceback (most recent call last)",
      "Cell \u001b[1;32mIn[67], line 1\u001b[0m\n\u001b[1;32m----> 1\u001b[0m \u001b[43mgbm\u001b[49m\u001b[38;5;241;43m.\u001b[39;49m\u001b[43mfit\u001b[49m\u001b[43m(\u001b[49m\u001b[43mX_train_scaled\u001b[49m\u001b[43m,\u001b[49m\u001b[43m \u001b[49m\u001b[43my_train\u001b[49m\u001b[43m)\u001b[49m\n",
      "File \u001b[1;32m~\\AppData\\Local\\Programs\\Python\\Python311\\Lib\\site-packages\\sklearn\\ensemble\\_gb.py:538\u001b[0m, in \u001b[0;36mBaseGradientBoosting.fit\u001b[1;34m(self, X, y, sample_weight, monitor)\u001b[0m\n\u001b[0;32m    535\u001b[0m     \u001b[38;5;28mself\u001b[39m\u001b[38;5;241m.\u001b[39m_resize_state()\n\u001b[0;32m    537\u001b[0m \u001b[38;5;66;03m# fit the boosting stages\u001b[39;00m\n\u001b[1;32m--> 538\u001b[0m n_stages \u001b[38;5;241m=\u001b[39m \u001b[38;5;28;43mself\u001b[39;49m\u001b[38;5;241;43m.\u001b[39;49m\u001b[43m_fit_stages\u001b[49m\u001b[43m(\u001b[49m\n\u001b[0;32m    539\u001b[0m \u001b[43m    \u001b[49m\u001b[43mX\u001b[49m\u001b[43m,\u001b[49m\n\u001b[0;32m    540\u001b[0m \u001b[43m    \u001b[49m\u001b[43my\u001b[49m\u001b[43m,\u001b[49m\n\u001b[0;32m    541\u001b[0m \u001b[43m    \u001b[49m\u001b[43mraw_predictions\u001b[49m\u001b[43m,\u001b[49m\n\u001b[0;32m    542\u001b[0m \u001b[43m    \u001b[49m\u001b[43msample_weight\u001b[49m\u001b[43m,\u001b[49m\n\u001b[0;32m    543\u001b[0m \u001b[43m    \u001b[49m\u001b[38;5;28;43mself\u001b[39;49m\u001b[38;5;241;43m.\u001b[39;49m\u001b[43m_rng\u001b[49m\u001b[43m,\u001b[49m\n\u001b[0;32m    544\u001b[0m \u001b[43m    \u001b[49m\u001b[43mX_val\u001b[49m\u001b[43m,\u001b[49m\n\u001b[0;32m    545\u001b[0m \u001b[43m    \u001b[49m\u001b[43my_val\u001b[49m\u001b[43m,\u001b[49m\n\u001b[0;32m    546\u001b[0m \u001b[43m    \u001b[49m\u001b[43msample_weight_val\u001b[49m\u001b[43m,\u001b[49m\n\u001b[0;32m    547\u001b[0m \u001b[43m    \u001b[49m\u001b[43mbegin_at_stage\u001b[49m\u001b[43m,\u001b[49m\n\u001b[0;32m    548\u001b[0m \u001b[43m    \u001b[49m\u001b[43mmonitor\u001b[49m\u001b[43m,\u001b[49m\n\u001b[0;32m    549\u001b[0m \u001b[43m\u001b[49m\u001b[43m)\u001b[49m\n\u001b[0;32m    551\u001b[0m \u001b[38;5;66;03m# change shape of arrays after fit (early-stopping or additional ests)\u001b[39;00m\n\u001b[0;32m    552\u001b[0m \u001b[38;5;28;01mif\u001b[39;00m n_stages \u001b[38;5;241m!=\u001b[39m \u001b[38;5;28mself\u001b[39m\u001b[38;5;241m.\u001b[39mestimators_\u001b[38;5;241m.\u001b[39mshape[\u001b[38;5;241m0\u001b[39m]:\n",
      "File \u001b[1;32m~\\AppData\\Local\\Programs\\Python\\Python311\\Lib\\site-packages\\sklearn\\ensemble\\_gb.py:615\u001b[0m, in \u001b[0;36mBaseGradientBoosting._fit_stages\u001b[1;34m(self, X, y, raw_predictions, sample_weight, random_state, X_val, y_val, sample_weight_val, begin_at_stage, monitor)\u001b[0m\n\u001b[0;32m    608\u001b[0m     old_oob_score \u001b[38;5;241m=\u001b[39m loss_(\n\u001b[0;32m    609\u001b[0m         y[\u001b[38;5;241m~\u001b[39msample_mask],\n\u001b[0;32m    610\u001b[0m         raw_predictions[\u001b[38;5;241m~\u001b[39msample_mask],\n\u001b[0;32m    611\u001b[0m         sample_weight[\u001b[38;5;241m~\u001b[39msample_mask],\n\u001b[0;32m    612\u001b[0m     )\n\u001b[0;32m    614\u001b[0m \u001b[38;5;66;03m# fit next stage of trees\u001b[39;00m\n\u001b[1;32m--> 615\u001b[0m raw_predictions \u001b[38;5;241m=\u001b[39m \u001b[38;5;28;43mself\u001b[39;49m\u001b[38;5;241;43m.\u001b[39;49m\u001b[43m_fit_stage\u001b[49m\u001b[43m(\u001b[49m\n\u001b[0;32m    616\u001b[0m \u001b[43m    \u001b[49m\u001b[43mi\u001b[49m\u001b[43m,\u001b[49m\n\u001b[0;32m    617\u001b[0m \u001b[43m    \u001b[49m\u001b[43mX\u001b[49m\u001b[43m,\u001b[49m\n\u001b[0;32m    618\u001b[0m \u001b[43m    \u001b[49m\u001b[43my\u001b[49m\u001b[43m,\u001b[49m\n\u001b[0;32m    619\u001b[0m \u001b[43m    \u001b[49m\u001b[43mraw_predictions\u001b[49m\u001b[43m,\u001b[49m\n\u001b[0;32m    620\u001b[0m \u001b[43m    \u001b[49m\u001b[43msample_weight\u001b[49m\u001b[43m,\u001b[49m\n\u001b[0;32m    621\u001b[0m \u001b[43m    \u001b[49m\u001b[43msample_mask\u001b[49m\u001b[43m,\u001b[49m\n\u001b[0;32m    622\u001b[0m \u001b[43m    \u001b[49m\u001b[43mrandom_state\u001b[49m\u001b[43m,\u001b[49m\n\u001b[0;32m    623\u001b[0m \u001b[43m    \u001b[49m\u001b[43mX_csc\u001b[49m\u001b[43m,\u001b[49m\n\u001b[0;32m    624\u001b[0m \u001b[43m    \u001b[49m\u001b[43mX_csr\u001b[49m\u001b[43m,\u001b[49m\n\u001b[0;32m    625\u001b[0m \u001b[43m\u001b[49m\u001b[43m)\u001b[49m\n\u001b[0;32m    627\u001b[0m \u001b[38;5;66;03m# track deviance (= loss)\u001b[39;00m\n\u001b[0;32m    628\u001b[0m \u001b[38;5;28;01mif\u001b[39;00m do_oob:\n",
      "File \u001b[1;32m~\\AppData\\Local\\Programs\\Python\\Python311\\Lib\\site-packages\\sklearn\\ensemble\\_gb.py:257\u001b[0m, in \u001b[0;36mBaseGradientBoosting._fit_stage\u001b[1;34m(self, i, X, y, raw_predictions, sample_weight, sample_mask, random_state, X_csc, X_csr)\u001b[0m\n\u001b[0;32m    254\u001b[0m     sample_weight \u001b[38;5;241m=\u001b[39m sample_weight \u001b[38;5;241m*\u001b[39m sample_mask\u001b[38;5;241m.\u001b[39mastype(np\u001b[38;5;241m.\u001b[39mfloat64)\n\u001b[0;32m    256\u001b[0m X \u001b[38;5;241m=\u001b[39m X_csr \u001b[38;5;28;01mif\u001b[39;00m X_csr \u001b[38;5;129;01mis\u001b[39;00m \u001b[38;5;129;01mnot\u001b[39;00m \u001b[38;5;28;01mNone\u001b[39;00m \u001b[38;5;28;01melse\u001b[39;00m X\n\u001b[1;32m--> 257\u001b[0m \u001b[43mtree\u001b[49m\u001b[38;5;241;43m.\u001b[39;49m\u001b[43mfit\u001b[49m\u001b[43m(\u001b[49m\u001b[43mX\u001b[49m\u001b[43m,\u001b[49m\u001b[43m \u001b[49m\u001b[43mresidual\u001b[49m\u001b[43m,\u001b[49m\u001b[43m \u001b[49m\u001b[43msample_weight\u001b[49m\u001b[38;5;241;43m=\u001b[39;49m\u001b[43msample_weight\u001b[49m\u001b[43m,\u001b[49m\u001b[43m \u001b[49m\u001b[43mcheck_input\u001b[49m\u001b[38;5;241;43m=\u001b[39;49m\u001b[38;5;28;43;01mFalse\u001b[39;49;00m\u001b[43m)\u001b[49m\n\u001b[0;32m    259\u001b[0m \u001b[38;5;66;03m# update tree leaves\u001b[39;00m\n\u001b[0;32m    260\u001b[0m loss\u001b[38;5;241m.\u001b[39mupdate_terminal_regions(\n\u001b[0;32m    261\u001b[0m     tree\u001b[38;5;241m.\u001b[39mtree_,\n\u001b[0;32m    262\u001b[0m     X,\n\u001b[1;32m   (...)\u001b[0m\n\u001b[0;32m    269\u001b[0m     k\u001b[38;5;241m=\u001b[39mk,\n\u001b[0;32m    270\u001b[0m )\n",
      "File \u001b[1;32m~\\AppData\\Local\\Programs\\Python\\Python311\\Lib\\site-packages\\sklearn\\tree\\_classes.py:1247\u001b[0m, in \u001b[0;36mDecisionTreeRegressor.fit\u001b[1;34m(self, X, y, sample_weight, check_input)\u001b[0m\n\u001b[0;32m   1218\u001b[0m \u001b[38;5;28;01mdef\u001b[39;00m \u001b[38;5;21mfit\u001b[39m(\u001b[38;5;28mself\u001b[39m, X, y, sample_weight\u001b[38;5;241m=\u001b[39m\u001b[38;5;28;01mNone\u001b[39;00m, check_input\u001b[38;5;241m=\u001b[39m\u001b[38;5;28;01mTrue\u001b[39;00m):\n\u001b[0;32m   1219\u001b[0m \u001b[38;5;250m    \u001b[39m\u001b[38;5;124;03m\"\"\"Build a decision tree regressor from the training set (X, y).\u001b[39;00m\n\u001b[0;32m   1220\u001b[0m \n\u001b[0;32m   1221\u001b[0m \u001b[38;5;124;03m    Parameters\u001b[39;00m\n\u001b[1;32m   (...)\u001b[0m\n\u001b[0;32m   1244\u001b[0m \u001b[38;5;124;03m        Fitted estimator.\u001b[39;00m\n\u001b[0;32m   1245\u001b[0m \u001b[38;5;124;03m    \"\"\"\u001b[39;00m\n\u001b[1;32m-> 1247\u001b[0m     \u001b[38;5;28;43msuper\u001b[39;49m\u001b[43m(\u001b[49m\u001b[43m)\u001b[49m\u001b[38;5;241;43m.\u001b[39;49m\u001b[43mfit\u001b[49m\u001b[43m(\u001b[49m\n\u001b[0;32m   1248\u001b[0m \u001b[43m        \u001b[49m\u001b[43mX\u001b[49m\u001b[43m,\u001b[49m\n\u001b[0;32m   1249\u001b[0m \u001b[43m        \u001b[49m\u001b[43my\u001b[49m\u001b[43m,\u001b[49m\n\u001b[0;32m   1250\u001b[0m \u001b[43m        \u001b[49m\u001b[43msample_weight\u001b[49m\u001b[38;5;241;43m=\u001b[39;49m\u001b[43msample_weight\u001b[49m\u001b[43m,\u001b[49m\n\u001b[0;32m   1251\u001b[0m \u001b[43m        \u001b[49m\u001b[43mcheck_input\u001b[49m\u001b[38;5;241;43m=\u001b[39;49m\u001b[43mcheck_input\u001b[49m\u001b[43m,\u001b[49m\n\u001b[0;32m   1252\u001b[0m \u001b[43m    \u001b[49m\u001b[43m)\u001b[49m\n\u001b[0;32m   1253\u001b[0m     \u001b[38;5;28;01mreturn\u001b[39;00m \u001b[38;5;28mself\u001b[39m\n",
      "File \u001b[1;32m~\\AppData\\Local\\Programs\\Python\\Python311\\Lib\\site-packages\\sklearn\\tree\\_classes.py:379\u001b[0m, in \u001b[0;36mBaseDecisionTree.fit\u001b[1;34m(self, X, y, sample_weight, check_input)\u001b[0m\n\u001b[0;32m    368\u001b[0m \u001b[38;5;28;01melse\u001b[39;00m:\n\u001b[0;32m    369\u001b[0m     builder \u001b[38;5;241m=\u001b[39m BestFirstTreeBuilder(\n\u001b[0;32m    370\u001b[0m         splitter,\n\u001b[0;32m    371\u001b[0m         min_samples_split,\n\u001b[1;32m   (...)\u001b[0m\n\u001b[0;32m    376\u001b[0m         \u001b[38;5;28mself\u001b[39m\u001b[38;5;241m.\u001b[39mmin_impurity_decrease,\n\u001b[0;32m    377\u001b[0m     )\n\u001b[1;32m--> 379\u001b[0m \u001b[43mbuilder\u001b[49m\u001b[38;5;241;43m.\u001b[39;49m\u001b[43mbuild\u001b[49m\u001b[43m(\u001b[49m\u001b[38;5;28;43mself\u001b[39;49m\u001b[38;5;241;43m.\u001b[39;49m\u001b[43mtree_\u001b[49m\u001b[43m,\u001b[49m\u001b[43m \u001b[49m\u001b[43mX\u001b[49m\u001b[43m,\u001b[49m\u001b[43m \u001b[49m\u001b[43my\u001b[49m\u001b[43m,\u001b[49m\u001b[43m \u001b[49m\u001b[43msample_weight\u001b[49m\u001b[43m)\u001b[49m\n\u001b[0;32m    381\u001b[0m \u001b[38;5;28;01mif\u001b[39;00m \u001b[38;5;28mself\u001b[39m\u001b[38;5;241m.\u001b[39mn_outputs_ \u001b[38;5;241m==\u001b[39m \u001b[38;5;241m1\u001b[39m \u001b[38;5;129;01mand\u001b[39;00m is_classifier(\u001b[38;5;28mself\u001b[39m):\n\u001b[0;32m    382\u001b[0m     \u001b[38;5;28mself\u001b[39m\u001b[38;5;241m.\u001b[39mn_classes_ \u001b[38;5;241m=\u001b[39m \u001b[38;5;28mself\u001b[39m\u001b[38;5;241m.\u001b[39mn_classes_[\u001b[38;5;241m0\u001b[39m]\n",
      "\u001b[1;31mKeyboardInterrupt\u001b[0m: "
     ]
    }
   ],
   "source": [
    "gbm.fit(X_train_scaled, y_train)"
   ]
  },
  {
   "cell_type": "markdown",
   "metadata": {},
   "source": [
    "Se realizan predicciones en el conjunto de prueba utilizando los modelos entrenados:"
   ]
  },
  {
   "cell_type": "code",
   "execution_count": 68,
   "metadata": {},
   "outputs": [
    {
     "name": "stderr",
     "output_type": "stream",
     "text": [
      "C:\\Users\\Esteban\\AppData\\Local\\Programs\\Python\\Python311\\Lib\\site-packages\\sklearn\\base.py:439: UserWarning: X does not have valid feature names, but RandomForestClassifier was fitted with feature names\n",
      "  warnings.warn(\n"
     ]
    },
    {
     "ename": "AttributeError",
     "evalue": "'NoneType' object has no attribute 'tree_'",
     "output_type": "error",
     "traceback": [
      "\u001b[1;31m---------------------------------------------------------------------------\u001b[0m",
      "\u001b[1;31mAttributeError\u001b[0m                            Traceback (most recent call last)",
      "Cell \u001b[1;32mIn[68], line 3\u001b[0m\n\u001b[0;32m      1\u001b[0m y_pred_lr \u001b[38;5;241m=\u001b[39m logistic_regression\u001b[38;5;241m.\u001b[39mpredict(X_test_scaled)\n\u001b[0;32m      2\u001b[0m y_pred_rf \u001b[38;5;241m=\u001b[39m random_forest\u001b[38;5;241m.\u001b[39mpredict(X_test_scaled)\n\u001b[1;32m----> 3\u001b[0m y_pred_gbm \u001b[38;5;241m=\u001b[39m \u001b[43mgbm\u001b[49m\u001b[38;5;241;43m.\u001b[39;49m\u001b[43mpredict\u001b[49m\u001b[43m(\u001b[49m\u001b[43mX_test_scaled\u001b[49m\u001b[43m)\u001b[49m\n",
      "File \u001b[1;32m~\\AppData\\Local\\Programs\\Python\\Python311\\Lib\\site-packages\\sklearn\\ensemble\\_gb.py:1308\u001b[0m, in \u001b[0;36mGradientBoostingClassifier.predict\u001b[1;34m(self, X)\u001b[0m\n\u001b[0;32m   1293\u001b[0m \u001b[38;5;28;01mdef\u001b[39;00m \u001b[38;5;21mpredict\u001b[39m(\u001b[38;5;28mself\u001b[39m, X):\n\u001b[0;32m   1294\u001b[0m \u001b[38;5;250m    \u001b[39m\u001b[38;5;124;03m\"\"\"Predict class for X.\u001b[39;00m\n\u001b[0;32m   1295\u001b[0m \n\u001b[0;32m   1296\u001b[0m \u001b[38;5;124;03m    Parameters\u001b[39;00m\n\u001b[1;32m   (...)\u001b[0m\n\u001b[0;32m   1306\u001b[0m \u001b[38;5;124;03m        The predicted values.\u001b[39;00m\n\u001b[0;32m   1307\u001b[0m \u001b[38;5;124;03m    \"\"\"\u001b[39;00m\n\u001b[1;32m-> 1308\u001b[0m     raw_predictions \u001b[38;5;241m=\u001b[39m \u001b[38;5;28;43mself\u001b[39;49m\u001b[38;5;241;43m.\u001b[39;49m\u001b[43mdecision_function\u001b[49m\u001b[43m(\u001b[49m\u001b[43mX\u001b[49m\u001b[43m)\u001b[49m\n\u001b[0;32m   1309\u001b[0m     encoded_labels \u001b[38;5;241m=\u001b[39m \u001b[38;5;28mself\u001b[39m\u001b[38;5;241m.\u001b[39m_loss\u001b[38;5;241m.\u001b[39m_raw_prediction_to_decision(raw_predictions)\n\u001b[0;32m   1310\u001b[0m     \u001b[38;5;28;01mreturn\u001b[39;00m \u001b[38;5;28mself\u001b[39m\u001b[38;5;241m.\u001b[39mclasses_\u001b[38;5;241m.\u001b[39mtake(encoded_labels, axis\u001b[38;5;241m=\u001b[39m\u001b[38;5;241m0\u001b[39m)\n",
      "File \u001b[1;32m~\\AppData\\Local\\Programs\\Python\\Python311\\Lib\\site-packages\\sklearn\\ensemble\\_gb.py:1264\u001b[0m, in \u001b[0;36mGradientBoostingClassifier.decision_function\u001b[1;34m(self, X)\u001b[0m\n\u001b[0;32m   1243\u001b[0m \u001b[38;5;250m\u001b[39m\u001b[38;5;124;03m\"\"\"Compute the decision function of ``X``.\u001b[39;00m\n\u001b[0;32m   1244\u001b[0m \n\u001b[0;32m   1245\u001b[0m \u001b[38;5;124;03mParameters\u001b[39;00m\n\u001b[1;32m   (...)\u001b[0m\n\u001b[0;32m   1259\u001b[0m \u001b[38;5;124;03m    array of shape (n_samples,).\u001b[39;00m\n\u001b[0;32m   1260\u001b[0m \u001b[38;5;124;03m\"\"\"\u001b[39;00m\n\u001b[0;32m   1261\u001b[0m X \u001b[38;5;241m=\u001b[39m \u001b[38;5;28mself\u001b[39m\u001b[38;5;241m.\u001b[39m_validate_data(\n\u001b[0;32m   1262\u001b[0m     X, dtype\u001b[38;5;241m=\u001b[39mDTYPE, order\u001b[38;5;241m=\u001b[39m\u001b[38;5;124m\"\u001b[39m\u001b[38;5;124mC\u001b[39m\u001b[38;5;124m\"\u001b[39m, accept_sparse\u001b[38;5;241m=\u001b[39m\u001b[38;5;124m\"\u001b[39m\u001b[38;5;124mcsr\u001b[39m\u001b[38;5;124m\"\u001b[39m, reset\u001b[38;5;241m=\u001b[39m\u001b[38;5;28;01mFalse\u001b[39;00m\n\u001b[0;32m   1263\u001b[0m )\n\u001b[1;32m-> 1264\u001b[0m raw_predictions \u001b[38;5;241m=\u001b[39m \u001b[38;5;28;43mself\u001b[39;49m\u001b[38;5;241;43m.\u001b[39;49m\u001b[43m_raw_predict\u001b[49m\u001b[43m(\u001b[49m\u001b[43mX\u001b[49m\u001b[43m)\u001b[49m\n\u001b[0;32m   1265\u001b[0m \u001b[38;5;28;01mif\u001b[39;00m raw_predictions\u001b[38;5;241m.\u001b[39mshape[\u001b[38;5;241m1\u001b[39m] \u001b[38;5;241m==\u001b[39m \u001b[38;5;241m1\u001b[39m:\n\u001b[0;32m   1266\u001b[0m     \u001b[38;5;28;01mreturn\u001b[39;00m raw_predictions\u001b[38;5;241m.\u001b[39mravel()\n",
      "File \u001b[1;32m~\\AppData\\Local\\Programs\\Python\\Python311\\Lib\\site-packages\\sklearn\\ensemble\\_gb.py:688\u001b[0m, in \u001b[0;36mBaseGradientBoosting._raw_predict\u001b[1;34m(self, X)\u001b[0m\n\u001b[0;32m    686\u001b[0m \u001b[38;5;250m\u001b[39m\u001b[38;5;124;03m\"\"\"Return the sum of the trees raw predictions (+ init estimator).\"\"\"\u001b[39;00m\n\u001b[0;32m    687\u001b[0m raw_predictions \u001b[38;5;241m=\u001b[39m \u001b[38;5;28mself\u001b[39m\u001b[38;5;241m.\u001b[39m_raw_predict_init(X)\n\u001b[1;32m--> 688\u001b[0m \u001b[43mpredict_stages\u001b[49m\u001b[43m(\u001b[49m\u001b[38;5;28;43mself\u001b[39;49m\u001b[38;5;241;43m.\u001b[39;49m\u001b[43mestimators_\u001b[49m\u001b[43m,\u001b[49m\u001b[43m \u001b[49m\u001b[43mX\u001b[49m\u001b[43m,\u001b[49m\u001b[43m \u001b[49m\u001b[38;5;28;43mself\u001b[39;49m\u001b[38;5;241;43m.\u001b[39;49m\u001b[43mlearning_rate\u001b[49m\u001b[43m,\u001b[49m\u001b[43m \u001b[49m\u001b[43mraw_predictions\u001b[49m\u001b[43m)\u001b[49m\n\u001b[0;32m    689\u001b[0m \u001b[38;5;28;01mreturn\u001b[39;00m raw_predictions\n",
      "File \u001b[1;32msklearn\\ensemble\\_gradient_boosting.pyx:206\u001b[0m, in \u001b[0;36msklearn.ensemble._gradient_boosting.predict_stages\u001b[1;34m()\u001b[0m\n",
      "\u001b[1;31mAttributeError\u001b[0m: 'NoneType' object has no attribute 'tree_'"
     ]
    }
   ],
   "source": [
    "y_pred_lr = logistic_regression.predict(X_test)\n",
    "y_pred_rf = random_forest.predict(X_test)\n",
    "y_pred_gbm = gbm.predict(X_test)"
   ]
  },
  {
   "cell_type": "markdown",
   "metadata": {},
   "source": [
    "Se calculan las métricas para cada modelo:"
   ]
  },
  {
   "cell_type": "code",
   "execution_count": null,
   "metadata": {},
   "outputs": [],
   "source": [
    "cm_lr = confusion_matrix(y_test, y_pred_lr)\n",
    "cm_rf = confusion_matrix(y_test, y_pred_rf)\n",
    "cm_gbm = confusion_matrix(y_test, y_pred_gbm)\n",
    "\n",
    "# Calcular las métricas de precisión, recall y exactitud (accuracy) para cada modelo\n",
    "accuracy_lr = accuracy_score(y_test, y_pred_lr)\n",
    "precision_lr = precision_score(y_test, y_pred_lr, average='weighted')\n",
    "recall_lr = recall_score(y_test, y_pred_lr, average='weighted')\n",
    "\n",
    "accuracy_rf = accuracy_score(y_test, y_pred_rf)\n",
    "precision_rf = precision_score(y_test, y_pred_rf, average='weighted')\n",
    "recall_rf = recall_score(y_test, y_pred_rf, average='weighted')\n",
    "\n",
    "accuracy_gbm = accuracy_score(y_test, y_pred_gbm)\n",
    "precision_gbm = precision_score(y_test, y_pred_gbm, average='weighted')\n",
    "recall_gbm = recall_score(y_test, y_pred_gbm, average='weighted')"
   ]
  },
  {
   "cell_type": "markdown",
   "metadata": {},
   "source": [
    "Se imprimen los resultados:"
   ]
  },
  {
   "cell_type": "code",
   "execution_count": null,
   "metadata": {},
   "outputs": [],
   "source": [
    "print(\"Matriz de confusión (Regresión Logística):\")\n",
    "print(cm_lr)\n",
    "print(\"Accuracy (Regresión Logística):\", accuracy_lr)\n",
    "print(\"Precision (Regresión Logística):\", precision_lr)\n",
    "print(\"Recall (Regresión Logística):\", recall_lr)\n",
    "print()\n",
    "\n",
    "print(\"Matriz de confusión (Random Forest):\")\n",
    "print(cm_rf)\n",
    "print(\"Accuracy (Random Forest):\", accuracy_rf)\n",
    "print(\"Precision (Random Forest):\", precision_rf)\n",
    "print(\"Recall (Random Forest):\", recall_rf)\n",
    "print()\n",
    "\n",
    "print(\"Matriz de confusión (GBM):\")\n",
    "print(cm_gbm)\n",
    "print(\"Accuracy (GBM):\", accuracy_gbm)\n",
    "print(\"Precision (GBM):\", precision_gbm)\n",
    "print(\"Recall (GBM):\", recall_gbm)"
   ]
  }
 ],
 "metadata": {
  "kernelspec": {
   "display_name": "Python 3 (ipykernel)",
   "language": "python",
   "name": "python3"
  },
  "language_info": {
   "codemirror_mode": {
    "name": "ipython",
    "version": 3
   },
   "file_extension": ".py",
   "mimetype": "text/x-python",
   "name": "python",
   "nbconvert_exporter": "python",
   "pygments_lexer": "ipython3",
   "version": "3.11.3"
  }
 },
 "nbformat": 4,
 "nbformat_minor": 2
}
